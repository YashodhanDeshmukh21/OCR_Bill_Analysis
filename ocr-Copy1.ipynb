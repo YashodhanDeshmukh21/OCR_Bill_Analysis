{
 "cells": [
  {
   "cell_type": "markdown",
   "metadata": {},
   "source": [
    "Using OpenCV or NLTK kind of library to read text (OCR) from it and categories all images in the categories like Home utility, Grocery, Shopping, Vehicle expenditure, Entertainment and Investment. \n",
    "1. Extract the text from the images and store it in categorical wise CSV file. Each category \n",
    "have separate CSV file.\n",
    "2. Each CSV file store the information like date of bill, organization name which generate \n",
    "the bill, bill amount and tax information(if any). \n",
    "3. Show table which is showing the expenses details category wise and display them in \n",
    "pie chart.\n",
    "4. Give suggestion to user, based on his expenditure which lead to increase the saving. \n",
    "\n"
   ]
  },
  {
   "cell_type": "code",
   "execution_count": 1,
   "metadata": {},
   "outputs": [],
   "source": [
    "from PIL import Image\n",
    "import pytesseract\n",
    "import argparse\n",
    "import cv2\n",
    "import os\n",
    "import pandas as pd\n",
    "import seaborn as sns\n",
    "import matplotlib.pyplot as plt\n",
    "import numpy as np\n",
    "import csv\n",
    "import nltk\n",
    "import re\n",
    "from nltk.tokenize import word_tokenize\n",
    "from nltk.corpus import wordnet "
   ]
  },
  {
   "cell_type": "markdown",
   "metadata": {},
   "source": [
    "For the general program flow we have elaborated the model in the below block."
   ]
  },
  {
   "cell_type": "raw",
   "metadata": {
    "jupyter": {
     "outputs_hidden": true
    }
   },
   "source": [
    "#lets make a protopye of first part\n",
    "#to scan 100 images \n",
    "\n",
    "''' #Part 1\n",
    "    for i in range(0,100):\n",
    "     image=cv2.imread('bill{}.png'.format(i),0)\n",
    "\n",
    "     text=(pytesseract.image_to_string(image)).lower()\n",
    "     print(text)\n",
    "     \n",
    "     use the operations to create list which contains date,organisation name and amount\n",
    "     store it in a list\n",
    "     \n",
    "    #create a csv file\n",
    "    file=['entertainment','investment','shopping','grocery','transport','home','others']\n",
    "    for i in file:\n",
    "    with open('{}.csv',format(file[i]), 'a', newline='') as csvfile:\n",
    "        w = csv.writer(csvfile, delimiter=',',quoting=csv.QUOTE_MINIMAL)\n",
    "        w.writerow(['date','organisation','amount'])\n",
    "        \n",
    "        \n",
    "    #question 2->appening the contents\n",
    "    #after identifing the category of the file\n",
    "    #add the contents in thier respective csv file\n",
    "    \n",
    "    \n",
    "    row_contents = [st,head,x]  -(date,title,amount)\n",
    "    from csv import writer\n",
    " \n",
    "        def append_list_as_row(file, list_of_elem):\n",
    "   \n",
    "            with open(file, 'a+', newline='') as write_obj:\n",
    "       \n",
    "            csv_writer = writer(write_obj)\n",
    "        \n",
    "            csv_writer.writerow(list_of_elem)\n",
    "    append_list_as_row(filename, row_contents)\n",
    "    \n",
    "    \n",
    "    #this is how appending was done.now you can save the notebook to make sure that csv file is saved.\n",
    "    #and then begain with the data analysis part.\n",
    "    \n",
    "        \n",
    "    '''\n"
   ]
  },
  {
   "cell_type": "markdown",
   "metadata": {},
   "source": [
    "here is demo of one bill that is scaned.We downloaded few bills from internet as those category bills were not available at home."
   ]
  },
  {
   "cell_type": "code",
   "execution_count": 2,
   "metadata": {},
   "outputs": [],
   "source": [
    "#Part one\n",
    "#lets read an image\n",
    "image=cv2.imread('bill3.png',0)\n"
   ]
  },
  {
   "cell_type": "code",
   "execution_count": 3,
   "metadata": {},
   "outputs": [
    {
     "name": "stdout",
     "output_type": "stream",
     "text": [
      "ying thai kitchen\n",
      "2220 queen anne ave n\n",
      "seattle wa 98109\n",
      "« (206) 285-8424 fax. (206) 285-8427\n",
      "‘uw .yingthaikitchen.com\n",
      "welcome to ying thai kitchen restaurant.\n",
      "\n",
      "order#:17 table 2\n",
      "date: 7/4/2013 7:28 pm\n",
      "\n",
      "server: jack (1.4)\n",
      "44 ginger lover $9.50\n",
      "[pork] [24#]\n",
      "\n",
      "brown rice $2.00\n",
      "total 2 iten(s) $11.50\n",
      "sales tax $1.09\n",
      "grand total $12.59\n",
      "tip guide\n",
      "\n",
      "tek=$1.89, 18%=$2.27, 20%=82.52\n",
      "thank you very much,\n",
      "cone back again\n",
      "\n"
     ]
    }
   ],
   "source": [
    "#convert it into text\n",
    "text=(pytesseract.image_to_string(image)).lower()\n",
    "print(text)"
   ]
  },
  {
   "cell_type": "code",
   "execution_count": 4,
   "metadata": {},
   "outputs": [
    {
     "name": "stdout",
     "output_type": "stream",
     "text": [
      "7/4/2013\n"
     ]
    }
   ],
   "source": [
    "#identify the date\n",
    "\n",
    "match=re.findall(r'\\d+[/.-]\\d+[/.-]\\d+', text)\n",
    "\n",
    "st=\" \"\n",
    "st=st.join(match)\n",
    "print(st)"
   ]
  },
  {
   "cell_type": "raw",
   "metadata": {},
   "source": [
    "#output\n",
    "7/4/2013"
   ]
  },
  {
   "cell_type": "raw",
   "metadata": {},
   "source": [
    "some times the format of the date wont be the same for all the bills.\n",
    "so if the date is ->1/03/17\n",
    "so wee need to change yy to yyyy format\n",
    "for that\n",
    "the below code will work\n",
    "\n",
    "#formatting the date if required\n",
    "l=st.split('/')\n",
    "add='20'\n",
    "if len(l[2])==2:\n",
    "         add=add+l[2]\n",
    "         l[2]=add\n",
    "d='/'\n",
    "d=d.join(l)\n",
    "st=d\n",
    "output->01/07/2017"
   ]
  },
  {
   "cell_type": "code",
   "execution_count": 5,
   "metadata": {},
   "outputs": [
    {
     "data": {
      "text/plain": [
       "True"
      ]
     },
     "execution_count": 5,
     "metadata": {},
     "output_type": "execute_result"
    }
   ],
   "source": [
    "nltk.download('punkt',quiet=True)\n",
    "nltk.download('wordnet',quiet=True)"
   ]
  },
  {
   "cell_type": "code",
   "execution_count": 6,
   "metadata": {},
   "outputs": [
    {
     "name": "stdout",
     "output_type": "stream",
     "text": [
      "ying thai kitchen\n"
     ]
    }
   ],
   "source": [
    "#lets try to extract title\n",
    "sent_tokens=nltk.sent_tokenize(text)\n",
    "#print(sent_tokens)\n",
    "sent_tokens[0].splitlines()[0]\n",
    "#print(sent_tokens[0].splitlines()[0])\n",
    "head=sent_tokens[0].splitlines()[0]\n",
    "print(head)\n"
   ]
  },
  {
   "cell_type": "raw",
   "metadata": {},
   "source": [
    "#output:\n",
    "'ying thai kitchen'"
   ]
  },
  {
   "cell_type": "raw",
   "metadata": {},
   "source": [
    "the other way of extracting title\n",
    "title.split('\\n')\n",
    "for i in title.split('\\n'):\n",
    "    break\n",
    "head=i\n",
    "print(head)"
   ]
  },
  {
   "cell_type": "code",
   "execution_count": 7,
   "metadata": {},
   "outputs": [
    {
     "name": "stdout",
     "output_type": "stream",
     "text": [
      "12.59\n"
     ]
    }
   ],
   "source": [
    "#lets find the price of the category.\n",
    "price=re.findall(r'[\\$\\£\\€](\\d+(?:\\.\\d{1,2})?)',text)\n",
    "price = list(map(float,price)) \n",
    "print(max(price))\n",
    "x=max(price)  "
   ]
  },
  {
   "cell_type": "markdown",
   "metadata": {},
   "source": [
    "output:\n",
    "12.59"
   ]
  },
  {
   "cell_type": "raw",
   "metadata": {},
   "source": [
    "while scanning i found that  prices of five to six bills were not able to scan,so i used other trick \n",
    "which is given below:\n",
    "\n",
    "code:\n",
    "\n",
    "for i in range(len(new_words)):\n",
    "    if new_words[i]=='grand' and new_words[i+1]=='total':\n",
    "        break\n",
    "price=new_words[i+2]\n",
    "print(price) \n",
    "x=price"
   ]
  },
  {
   "cell_type": "code",
   "execution_count": 8,
   "metadata": {},
   "outputs": [
    {
     "name": "stdout",
     "output_type": "stream",
     "text": [
      "['ying', 'thai', 'kitchen', '2220', 'queen', 'anne', 'ave', 'n', 'seattle', 'wa', '98109', '«', '(', '206', ')', '285-8424', 'fax', '.', '(', '206', ')', '285-8427', '‘', 'uw', '.yingthaikitchen.com', 'welcome', 'to', 'ying', 'thai', 'kitchen', 'restaurant', '.', 'order', '#', ':17', 'table', '2', 'date', ':', '7/4/2013', '7:28', 'pm', 'server', ':', 'jack', '(', '1.4', ')', '44', 'ginger', 'lover', '$', '9.50', '[', 'pork', ']', '[', '24', '#', ']', 'brown', 'rice', '$', '2.00', 'total', '2', 'iten', '(', 's', ')', '$', '11.50', 'sales', 'tax', '$', '1.09', 'grand', 'total', '$', '12.59', 'tip', 'guide', 'tek=', '$', '1.89', ',', '18', '%', '=', '$', '2.27', ',', '20', '%', '=82.52', 'thank', 'you', 'very', 'much', ',', 'cone', 'back', 'again']\n"
     ]
    }
   ],
   "source": [
    "#till here we have extracted date,title and amount.\n",
    "#now its time to categorise bill whether it is shopping or grocery like wise\n",
    "#so i will first tokenise the text and search for key words\n",
    "print(word_tokenize(text))"
   ]
  },
  {
   "cell_type": "code",
   "execution_count": 9,
   "metadata": {},
   "outputs": [
    {
     "name": "stdout",
     "output_type": "stream",
     "text": [
      "['ying', 'thai', 'kitchen', '2220', 'queen', 'anne', 'ave', 'n', 'seattle', 'wa', '98109', '206', '285', '8424', 'fax', '206', '285', '8427', 'uw', 'yingthaikitchen', 'com', 'welcome', 'to', 'ying', 'thai', 'kitchen', 'restaurant', 'order', '17', 'table', '2', 'date', '7', '4', '2013', '7', '28', 'pm', 'server', 'jack', '1', '4', '44', 'ginger', 'lover', '9', '50', 'pork', '24', 'brown', 'rice', '2', '00', 'total', '2', 'iten', 's', '11', '50', 'sales', 'tax', '1', '09', 'grand', 'total', '12', '59', 'tip', 'guide', 'tek', '1', '89', '18', '2', '27', '20', '82', '52', 'thank', 'you', 'very', 'much', 'cone', 'back', 'again']\n"
     ]
    }
   ],
   "source": [
    "#we will remove punctuation\n",
    "tokenizer = nltk.RegexpTokenizer(r\"\\w+\")\n",
    "new_words = tokenizer.tokenize(text)\n",
    "print(new_words)"
   ]
  },
  {
   "cell_type": "code",
   "execution_count": 10,
   "metadata": {},
   "outputs": [
    {
     "name": "stderr",
     "output_type": "stream",
     "text": [
      "[nltk_data] Downloading package stopwords to\n",
      "[nltk_data]     C:\\Users\\yasho\\AppData\\Roaming\\nltk_data...\n",
      "[nltk_data]   Package stopwords is already up-to-date!\n"
     ]
    },
    {
     "data": {
      "text/plain": [
       "True"
      ]
     },
     "execution_count": 10,
     "metadata": {},
     "output_type": "execute_result"
    }
   ],
   "source": [
    "#stop_words = set(nltk.corpus.stopwords.words('english')) \n",
    "nltk.download('stopwords')"
   ]
  },
  {
   "cell_type": "code",
   "execution_count": 11,
   "metadata": {},
   "outputs": [],
   "source": [
    "#there are stop words like a ,an,the etc which are not required\n",
    "#so we need to filter them\n",
    "stop_words = set(nltk.corpus.stopwords.words('english')) "
   ]
  },
  {
   "cell_type": "code",
   "execution_count": 12,
   "metadata": {},
   "outputs": [
    {
     "name": "stdout",
     "output_type": "stream",
     "text": [
      "['ying', 'thai', 'kitchen', '2220', 'queen', 'anne', 'ave', 'n', 'seattle', 'wa', '98109', '206', '285', '8424', 'fax', '206', '285', '8427', 'uw', 'yingthaikitchen', 'com', 'welcome', 'ying', 'thai', 'kitchen', 'restaurant', 'order', '17', 'table', '2', 'date', '7', '4', '2013', '7', '28', 'pm', 'server', 'jack', '1', '4', '44', 'ginger', 'lover', '9', '50', 'pork', '24', 'brown', 'rice', '2', '00', 'total', '2', 'iten', '11', '50', 'sales', 'tax', '1', '09', 'grand', 'total', '12', '59', 'tip', 'guide', 'tek', '1', '89', '18', '2', '27', '20', '82', '52', 'thank', 'much', 'cone', 'back']\n"
     ]
    }
   ],
   "source": [
    "#there is the filetred list\n",
    "filtered_list=[w for w in new_words if w not in stop_words ]\n",
    "print(filtered_list)"
   ]
  },
  {
   "cell_type": "markdown",
   "metadata": {},
   "source": [
    "in the next six blocks we will make list of 6 categories.these list will contain few words which are relatable to the category of bill.for instance suppose the above bill of the restuarant would include words like kitchen,food or restuarant.so we will compare it list category and likewise allot the rescpective category."
   ]
  },
  {
   "cell_type": "code",
   "execution_count": 13,
   "metadata": {},
   "outputs": [],
   "source": [
    "#entertainment\n",
    "entertainment = [] \n",
    "for syn in wordnet.synsets(\"entertainment\"): \n",
    "    for l in syn.lemmas(): \n",
    "        entertainment.append(l.name()) \n",
    "        \n",
    "l=['happy','restaurant','food','kitchen','hotel','room','park','movie','cinema','popcorn','combo meal']\n",
    "entertainment=entertainment+l\n"
   ]
  },
  {
   "cell_type": "code",
   "execution_count": 14,
   "metadata": {},
   "outputs": [],
   "source": [
    "#home utility\n",
    "home_utility=[] \n",
    "for syn in wordnet.synsets(\"home\"): \n",
    "    for l in syn.lemmas(): \n",
    "         home_utility.append(l.name()) \n",
    "l2=['internet','telephone','elecricity','meter','wifi','broadband','consumer','reading','gas','water','postpaid','prepaid']\n",
    "home_utility+=l2"
   ]
  },
  {
   "cell_type": "code",
   "execution_count": 15,
   "metadata": {},
   "outputs": [],
   "source": [
    "#grocery\n",
    " \n",
    "grocery=[] \n",
    "for syn in wordnet.synsets(\"grocery\"): \n",
    "    for l in syn.lemmas(): \n",
    "         grocery.append(l.name())\n",
    "l3=['bigbasket','milk','atta','sugar','suflower','oil','bread','vegetabe','fruit','salt','paneer']\n",
    "grocery+=l3\n"
   ]
  },
  {
   "cell_type": "code",
   "execution_count": 16,
   "metadata": {},
   "outputs": [],
   "source": [
    "#investment\n",
    "investment=[] \n",
    "for syn in wordnet.synsets(\"investment\"): \n",
    "    for l in syn.lemmas(): \n",
    "         investment.append(l.name()) \n",
    "l1=['endowment','grant','loan','applicant','income','expenditure','profit','interest','expense','finance','property','money','fixed','deposit','kissan','vikas']\n",
    "investment=investment+l1"
   ]
  },
  {
   "cell_type": "code",
   "execution_count": 17,
   "metadata": {},
   "outputs": [],
   "source": [
    "#travel and transportation\n",
    "transport=[]\n",
    "for syn in wordnet.synsets(\"car\"): \n",
    "    for l in syn.lemmas(): \n",
    "         transport.append(l.name()) \n",
    "l4=['cab','ola','uber','autorickshaw','railway','air','emirates','aerofloat','taxi','booking','road','highway']\n",
    "transport+=l4"
   ]
  },
  {
   "cell_type": "code",
   "execution_count": 18,
   "metadata": {},
   "outputs": [],
   "source": [
    "#shopping\n",
    "shopping=[]\n",
    "for syn in wordnet.synsets(\"dress\"): \n",
    "    for l in syn.lemmas(): \n",
    "         shopping.append(l.name()) \n",
    "l4=['iphone','laptop','saree','max','pantaloons','westside','vedic','makeup','lipstick','cosmetics','mac','facewash','heels','crocs','footwear','purse']\n",
    "shopping+=l4"
   ]
  },
  {
   "cell_type": "code",
   "execution_count": 19,
   "metadata": {},
   "outputs": [],
   "source": [
    "#here we will check that the bill belongs to which category\n",
    "#we will make that category true.\n",
    "for word in filtered_list:\n",
    "    if word in entertainment:\n",
    "        e=True\n",
    "        break\n",
    "    elif word in investment:\n",
    "        inv=True\n",
    "        break\n",
    "    elif word in grocery:\n",
    "        g=True\n",
    "        break\n",
    "    elif word in shopping:\n",
    "        s=True\n",
    "        break\n",
    "    elif word in transport:\n",
    "        t=True\n",
    "        break\n",
    "    elif word in home_utility:\n",
    "        h=True\n",
    "        break\n",
    "            "
   ]
  },
  {
   "cell_type": "code",
   "execution_count": 20,
   "metadata": {
    "jupyter": {
     "outputs_hidden": true
    }
   },
   "outputs": [
    {
     "data": {
      "text/plain": [
       "\"\\n#this is how i created all the csv files.\\nwith open('entertainment.csv', 'a', newline='') as csvfile:\\n    spamwriter = csv.writer(csvfile, delimiter=',',quoting=csv.QUOTE_MINIMAL)\\n    spamwriter.writerow(['date','organisation','amount'])\\nwith open('investment.csv', 'a', newline='') as csvfile:\\n    spamwriter = csv.writer(csvfile, delimiter=',',quoting=csv.QUOTE_MINIMAL)\\n    spamwriter.writerow(['date','organisation','amount']) \\nwith open('shopping.csv', 'a', newline='') as csvfile:\\n    spamwriter = csv.writer(csvfile, delimiter=',',quoting=csv.QUOTE_MINIMAL)\\n    spamwriter.writerow(['date','organisation','amount'])\\nwith open('grocery.csv', 'a', newline='') as csvfile:\\n    spamwriter = csv.writer(csvfile, delimiter=',',quoting=csv.QUOTE_MINIMAL)\\n    spamwriter.writerow(['date','organisation','amount'])\\nwith open('transport.csv', 'a', newline='') as csvfile:\\n    spamwriter = csv.writer(csvfile, delimiter=',',quoting=csv.QUOTE_MINIMAL)\\n    spamwriter.writerow(['date','organisation','amount'])\\nwith open('home.csv', 'a', newline='') as csvfile:\\n    spamwriter = csv.writer(csvfile, delimiter=',',quoting=csv.QUOTE_MINIMAL)\\n    spamwriter.writerow(['date','organisation','amount'])\\nwith open('others.csv', 'a', newline='') as csvfile:\\n    spamwriter = csv.writer(csvfile, delimiter=',',quoting=csv.QUOTE_MINIMAL)\\n    spamwriter.writerow(['date','organisation','amount'])\\n\""
      ]
     },
     "execution_count": 20,
     "metadata": {},
     "output_type": "execute_result"
    }
   ],
   "source": [
    "'''\n",
    "#this is how i created all the csv files.\n",
    "with open('entertainment.csv', 'a', newline='') as csvfile:\n",
    "    spamwriter = csv.writer(csvfile, delimiter=',',quoting=csv.QUOTE_MINIMAL)\n",
    "    spamwriter.writerow(['date','organisation','amount'])\n",
    "with open('investment.csv', 'a', newline='') as csvfile:\n",
    "    spamwriter = csv.writer(csvfile, delimiter=',',quoting=csv.QUOTE_MINIMAL)\n",
    "    spamwriter.writerow(['date','organisation','amount']) \n",
    "with open('shopping.csv', 'a', newline='') as csvfile:\n",
    "    spamwriter = csv.writer(csvfile, delimiter=',',quoting=csv.QUOTE_MINIMAL)\n",
    "    spamwriter.writerow(['date','organisation','amount'])\n",
    "with open('grocery.csv', 'a', newline='') as csvfile:\n",
    "    spamwriter = csv.writer(csvfile, delimiter=',',quoting=csv.QUOTE_MINIMAL)\n",
    "    spamwriter.writerow(['date','organisation','amount'])\n",
    "with open('transport.csv', 'a', newline='') as csvfile:\n",
    "    spamwriter = csv.writer(csvfile, delimiter=',',quoting=csv.QUOTE_MINIMAL)\n",
    "    spamwriter.writerow(['date','organisation','amount'])\n",
    "with open('home.csv', 'a', newline='') as csvfile:\n",
    "    spamwriter = csv.writer(csvfile, delimiter=',',quoting=csv.QUOTE_MINIMAL)\n",
    "    spamwriter.writerow(['date','organisation','amount'])\n",
    "with open('others.csv', 'a', newline='') as csvfile:\n",
    "    spamwriter = csv.writer(csvfile, delimiter=',',quoting=csv.QUOTE_MINIMAL)\n",
    "    spamwriter.writerow(['date','organisation','amount'])\n",
    "'''\n",
    "   "
   ]
  },
  {
   "cell_type": "code",
   "execution_count": 21,
   "metadata": {},
   "outputs": [
    {
     "name": "stdout",
     "output_type": "stream",
     "text": [
      "entertainment category\n"
     ]
    }
   ],
   "source": [
    "#question 2\n",
    "#this code the category in which the bill belongs to\n",
    "#if e is true then entertainment categrory and we will ,ake filename as entertainment.csv using\n",
    "#formatting\n",
    "if(e):\n",
    "    print(\"entertainment category\")\n",
    "    filename='{}.csv'.format('entertainment')\n",
    "    df=pd.read_csv('entertainment.csv')\n",
    "elif(inv):\n",
    "    print(\"investment category\")\n",
    "    filename='{}.csv'.format('investment')\n",
    "    #df=pd.read_csv('investment.csv')\n",
    "elif(s):\n",
    "    print(\"shopping category\")\n",
    "    filename='{}.csv'.format('shopping')\n",
    "    #df=pd.read_csv('shopping.csv')\n",
    "elif(g):\n",
    "    print(\"grocery category\")\n",
    "    filename='{}.csv'.format('grocery')\n",
    "    #df=pd.read_csv('grocery.csv')\n",
    "elif(t):\n",
    "    print(\"transport category\")\n",
    "    filename='{}.csv'.format('transport')\n",
    "    #df=pd.read_csv('transport.csv')\n",
    "elif(h):\n",
    "    print(\"home utility category\")\n",
    "    filename='{}.csv'.format('home')\n",
    "    #df=pd.read_csv('home.csv')\n",
    "else:\n",
    "    print(\"others\")\n",
    "    filename='{}.csv'.format('others')\n",
    "    #df=pd.read_csv('others.csv')\n",
    "        \n",
    "        \n"
   ]
  },
  {
   "cell_type": "code",
   "execution_count": 22,
   "metadata": {},
   "outputs": [],
   "source": [
    "#add the contents in thier respective csv file\n",
    "row_contents = ([st,head,x])\n",
    "from csv import writer\n",
    " \n",
    "def append_list_as_row(file, list_of_elem):\n",
    "   \n",
    "    with open(file, 'a+', newline='') as write_obj:\n",
    "       \n",
    "        csv_writer = writer(write_obj)\n",
    "        \n",
    "        csv_writer.writerow(list_of_elem)\n",
    "append_list_as_row(filename, row_contents)"
   ]
  },
  {
   "cell_type": "raw",
   "metadata": {},
   "source": [
    "this was the end of question one and two where we read image,converted into text ,extracted data and stored in the respective category.\n",
    "now we will move on to third and fourth question that is all about data analysis\n",
    "woohooo this is my favourite part."
   ]
  },
  {
   "cell_type": "code",
   "execution_count": 23,
   "metadata": {},
   "outputs": [],
   "source": [
    "#after this make sure you save it\n",
    "entertainment=pd.read_csv('entertainment.csv')\n",
    "investment=pd.read_csv('investment.csv')\n",
    "shopping=pd.read_csv('shopping.csv')\n",
    "grocery=pd.read_csv('grocery.csv')\n",
    "transport=pd.read_csv('transport.csv')\n",
    "other=pd.read_csv('others.csv')\n",
    "home=pd.read_csv('home.csv')"
   ]
  },
  {
   "cell_type": "code",
   "execution_count": 24,
   "metadata": {},
   "outputs": [],
   "source": [
    "entertainment['Date']= pd.to_datetime(entertainment.date)\n",
    "investment['Date']=pd.to_datetime(investment.date)\n",
    "shopping['Date']=pd.to_datetime(shopping.date)\n",
    "grocery['Date']=pd.to_datetime(grocery.date)\n",
    "transport['Date']=pd.to_datetime(transport.date)\n",
    "other['Date']=pd.to_datetime(other.date)\n",
    "home['Date']=pd.to_datetime(home.date)\n"
   ]
  },
  {
   "cell_type": "code",
   "execution_count": 25,
   "metadata": {},
   "outputs": [
    {
     "data": {
      "text/html": [
       "<div>\n",
       "<style scoped>\n",
       "    .dataframe tbody tr th:only-of-type {\n",
       "        vertical-align: middle;\n",
       "    }\n",
       "\n",
       "    .dataframe tbody tr th {\n",
       "        vertical-align: top;\n",
       "    }\n",
       "\n",
       "    .dataframe thead th {\n",
       "        text-align: right;\n",
       "    }\n",
       "</style>\n",
       "<table border=\"1\" class=\"dataframe\">\n",
       "  <thead>\n",
       "    <tr style=\"text-align: right;\">\n",
       "      <th></th>\n",
       "      <th>date</th>\n",
       "      <th>organisation</th>\n",
       "      <th>amount</th>\n",
       "      <th>Date</th>\n",
       "    </tr>\n",
       "  </thead>\n",
       "  <tbody>\n",
       "    <tr>\n",
       "      <th>0</th>\n",
       "      <td>1/7/2017</td>\n",
       "      <td>sri krishna</td>\n",
       "      <td>70.00</td>\n",
       "      <td>2017-01-07</td>\n",
       "    </tr>\n",
       "    <tr>\n",
       "      <th>1</th>\n",
       "      <td>11/15/2018</td>\n",
       "      <td>paninnaro</td>\n",
       "      <td>200.00</td>\n",
       "      <td>2018-11-15</td>\n",
       "    </tr>\n",
       "    <tr>\n",
       "      <th>2</th>\n",
       "      <td>8/19/2018</td>\n",
       "      <td>four seasons</td>\n",
       "      <td>3577.00</td>\n",
       "      <td>2018-08-19</td>\n",
       "    </tr>\n",
       "    <tr>\n",
       "      <th>3</th>\n",
       "      <td>10/11/2019</td>\n",
       "      <td>lakshmi villas</td>\n",
       "      <td>400.00</td>\n",
       "      <td>2019-10-11</td>\n",
       "    </tr>\n",
       "    <tr>\n",
       "      <th>4</th>\n",
       "      <td>7/4/2013</td>\n",
       "      <td>ying thai kitchen</td>\n",
       "      <td>12.59</td>\n",
       "      <td>2013-07-04</td>\n",
       "    </tr>\n",
       "  </tbody>\n",
       "</table>\n",
       "</div>"
      ],
      "text/plain": [
       "         date       organisation   amount       Date\n",
       "0    1/7/2017        sri krishna    70.00 2017-01-07\n",
       "1  11/15/2018          paninnaro   200.00 2018-11-15\n",
       "2   8/19/2018       four seasons  3577.00 2018-08-19\n",
       "3  10/11/2019     lakshmi villas   400.00 2019-10-11\n",
       "4    7/4/2013  ying thai kitchen    12.59 2013-07-04"
      ]
     },
     "execution_count": 25,
     "metadata": {},
     "output_type": "execute_result"
    }
   ],
   "source": [
    "#question3\n",
    "entertainment.head()"
   ]
  },
  {
   "cell_type": "code",
   "execution_count": 26,
   "metadata": {},
   "outputs": [
    {
     "data": {
      "text/html": [
       "<div>\n",
       "<style scoped>\n",
       "    .dataframe tbody tr th:only-of-type {\n",
       "        vertical-align: middle;\n",
       "    }\n",
       "\n",
       "    .dataframe tbody tr th {\n",
       "        vertical-align: top;\n",
       "    }\n",
       "\n",
       "    .dataframe thead th {\n",
       "        text-align: right;\n",
       "    }\n",
       "</style>\n",
       "<table border=\"1\" class=\"dataframe\">\n",
       "  <thead>\n",
       "    <tr style=\"text-align: right;\">\n",
       "      <th></th>\n",
       "      <th>date</th>\n",
       "      <th>organisation</th>\n",
       "      <th>amount</th>\n",
       "      <th>Date</th>\n",
       "    </tr>\n",
       "  </thead>\n",
       "  <tbody>\n",
       "    <tr>\n",
       "      <th>0</th>\n",
       "      <td>11/8/2015</td>\n",
       "      <td>Shriram Trasnport Finance</td>\n",
       "      <td>25000</td>\n",
       "      <td>2015-11-08</td>\n",
       "    </tr>\n",
       "  </tbody>\n",
       "</table>\n",
       "</div>"
      ],
      "text/plain": [
       "        date               organisation  amount       Date\n",
       "0  11/8/2015  Shriram Trasnport Finance   25000 2015-11-08"
      ]
     },
     "execution_count": 26,
     "metadata": {},
     "output_type": "execute_result"
    }
   ],
   "source": [
    "investment.head()"
   ]
  },
  {
   "cell_type": "code",
   "execution_count": 27,
   "metadata": {},
   "outputs": [
    {
     "data": {
      "text/html": [
       "<div>\n",
       "<style scoped>\n",
       "    .dataframe tbody tr th:only-of-type {\n",
       "        vertical-align: middle;\n",
       "    }\n",
       "\n",
       "    .dataframe tbody tr th {\n",
       "        vertical-align: top;\n",
       "    }\n",
       "\n",
       "    .dataframe thead th {\n",
       "        text-align: right;\n",
       "    }\n",
       "</style>\n",
       "<table border=\"1\" class=\"dataframe\">\n",
       "  <thead>\n",
       "    <tr style=\"text-align: right;\">\n",
       "      <th></th>\n",
       "      <th>date</th>\n",
       "      <th>organisation</th>\n",
       "      <th>amount</th>\n",
       "      <th>Date</th>\n",
       "    </tr>\n",
       "  </thead>\n",
       "  <tbody>\n",
       "    <tr>\n",
       "      <th>0</th>\n",
       "      <td>1/27/2019</td>\n",
       "      <td>jockey</td>\n",
       "      <td>2400</td>\n",
       "      <td>2019-01-27</td>\n",
       "    </tr>\n",
       "    <tr>\n",
       "      <th>1</th>\n",
       "      <td>2/19/2018</td>\n",
       "      <td>h&amp;m</td>\n",
       "      <td>3000</td>\n",
       "      <td>2018-02-19</td>\n",
       "    </tr>\n",
       "    <tr>\n",
       "      <th>2</th>\n",
       "      <td>6/20/2019</td>\n",
       "      <td>paytm</td>\n",
       "      <td>507</td>\n",
       "      <td>2019-06-20</td>\n",
       "    </tr>\n",
       "    <tr>\n",
       "      <th>3</th>\n",
       "      <td>1/27/2020</td>\n",
       "      <td>max</td>\n",
       "      <td>500</td>\n",
       "      <td>2020-01-27</td>\n",
       "    </tr>\n",
       "    <tr>\n",
       "      <th>4</th>\n",
       "      <td>2/19/2019</td>\n",
       "      <td>pantaloons</td>\n",
       "      <td>700</td>\n",
       "      <td>2019-02-19</td>\n",
       "    </tr>\n",
       "  </tbody>\n",
       "</table>\n",
       "</div>"
      ],
      "text/plain": [
       "        date organisation  amount       Date\n",
       "0  1/27/2019       jockey    2400 2019-01-27\n",
       "1  2/19/2018          h&m    3000 2018-02-19\n",
       "2  6/20/2019        paytm     507 2019-06-20\n",
       "3  1/27/2020          max     500 2020-01-27\n",
       "4  2/19/2019   pantaloons     700 2019-02-19"
      ]
     },
     "execution_count": 27,
     "metadata": {},
     "output_type": "execute_result"
    }
   ],
   "source": [
    "shopping.head()"
   ]
  },
  {
   "cell_type": "code",
   "execution_count": 28,
   "metadata": {},
   "outputs": [
    {
     "data": {
      "text/html": [
       "<div>\n",
       "<style scoped>\n",
       "    .dataframe tbody tr th:only-of-type {\n",
       "        vertical-align: middle;\n",
       "    }\n",
       "\n",
       "    .dataframe tbody tr th {\n",
       "        vertical-align: top;\n",
       "    }\n",
       "\n",
       "    .dataframe thead th {\n",
       "        text-align: right;\n",
       "    }\n",
       "</style>\n",
       "<table border=\"1\" class=\"dataframe\">\n",
       "  <thead>\n",
       "    <tr style=\"text-align: right;\">\n",
       "      <th></th>\n",
       "      <th>date</th>\n",
       "      <th>organisation</th>\n",
       "      <th>amount</th>\n",
       "      <th>Date</th>\n",
       "    </tr>\n",
       "  </thead>\n",
       "  <tbody>\n",
       "    <tr>\n",
       "      <th>0</th>\n",
       "      <td>10/2/2020</td>\n",
       "      <td>Dmart</td>\n",
       "      <td>1500</td>\n",
       "      <td>2020-10-02</td>\n",
       "    </tr>\n",
       "    <tr>\n",
       "      <th>1</th>\n",
       "      <td>3/15/2020</td>\n",
       "      <td>Hinds</td>\n",
       "      <td>500</td>\n",
       "      <td>2020-03-15</td>\n",
       "    </tr>\n",
       "    <tr>\n",
       "      <th>2</th>\n",
       "      <td>1/14/2020</td>\n",
       "      <td>SVstores</td>\n",
       "      <td>1500</td>\n",
       "      <td>2020-01-14</td>\n",
       "    </tr>\n",
       "    <tr>\n",
       "      <th>3</th>\n",
       "      <td>9/15/2020</td>\n",
       "      <td>SVstores</td>\n",
       "      <td>700</td>\n",
       "      <td>2020-09-15</td>\n",
       "    </tr>\n",
       "    <tr>\n",
       "      <th>4</th>\n",
       "      <td>1/20/2020</td>\n",
       "      <td>bigbasket</td>\n",
       "      <td>400</td>\n",
       "      <td>2020-01-20</td>\n",
       "    </tr>\n",
       "  </tbody>\n",
       "</table>\n",
       "</div>"
      ],
      "text/plain": [
       "        date organisation  amount       Date\n",
       "0  10/2/2020        Dmart    1500 2020-10-02\n",
       "1  3/15/2020        Hinds     500 2020-03-15\n",
       "2  1/14/2020     SVstores    1500 2020-01-14\n",
       "3  9/15/2020     SVstores     700 2020-09-15\n",
       "4  1/20/2020    bigbasket     400 2020-01-20"
      ]
     },
     "execution_count": 28,
     "metadata": {},
     "output_type": "execute_result"
    }
   ],
   "source": [
    "grocery.head()"
   ]
  },
  {
   "cell_type": "code",
   "execution_count": 29,
   "metadata": {},
   "outputs": [
    {
     "data": {
      "text/html": [
       "<div>\n",
       "<style scoped>\n",
       "    .dataframe tbody tr th:only-of-type {\n",
       "        vertical-align: middle;\n",
       "    }\n",
       "\n",
       "    .dataframe tbody tr th {\n",
       "        vertical-align: top;\n",
       "    }\n",
       "\n",
       "    .dataframe thead th {\n",
       "        text-align: right;\n",
       "    }\n",
       "</style>\n",
       "<table border=\"1\" class=\"dataframe\">\n",
       "  <thead>\n",
       "    <tr style=\"text-align: right;\">\n",
       "      <th></th>\n",
       "      <th>date</th>\n",
       "      <th>organisation</th>\n",
       "      <th>amount</th>\n",
       "      <th>Date</th>\n",
       "    </tr>\n",
       "  </thead>\n",
       "  <tbody>\n",
       "    <tr>\n",
       "      <th>0</th>\n",
       "      <td>8/13/2019</td>\n",
       "      <td>ola</td>\n",
       "      <td>200</td>\n",
       "      <td>2019-08-13</td>\n",
       "    </tr>\n",
       "    <tr>\n",
       "      <th>1</th>\n",
       "      <td>8/15/2020</td>\n",
       "      <td>ola</td>\n",
       "      <td>150</td>\n",
       "      <td>2020-08-15</td>\n",
       "    </tr>\n",
       "    <tr>\n",
       "      <th>2</th>\n",
       "      <td>8/16/2020</td>\n",
       "      <td>uber</td>\n",
       "      <td>60</td>\n",
       "      <td>2020-08-16</td>\n",
       "    </tr>\n",
       "    <tr>\n",
       "      <th>3</th>\n",
       "      <td>1/1/2019</td>\n",
       "      <td>dipam motors</td>\n",
       "      <td>1000</td>\n",
       "      <td>2019-01-01</td>\n",
       "    </tr>\n",
       "    <tr>\n",
       "      <th>4</th>\n",
       "      <td>3/3/2020</td>\n",
       "      <td>honda</td>\n",
       "      <td>5000</td>\n",
       "      <td>2020-03-03</td>\n",
       "    </tr>\n",
       "  </tbody>\n",
       "</table>\n",
       "</div>"
      ],
      "text/plain": [
       "        date  organisation  amount       Date\n",
       "0  8/13/2019           ola     200 2019-08-13\n",
       "1  8/15/2020           ola     150 2020-08-15\n",
       "2  8/16/2020          uber      60 2020-08-16\n",
       "3   1/1/2019  dipam motors    1000 2019-01-01\n",
       "4   3/3/2020         honda    5000 2020-03-03"
      ]
     },
     "execution_count": 29,
     "metadata": {},
     "output_type": "execute_result"
    }
   ],
   "source": [
    "transport.head()"
   ]
  },
  {
   "cell_type": "code",
   "execution_count": 30,
   "metadata": {},
   "outputs": [
    {
     "data": {
      "text/html": [
       "<div>\n",
       "<style scoped>\n",
       "    .dataframe tbody tr th:only-of-type {\n",
       "        vertical-align: middle;\n",
       "    }\n",
       "\n",
       "    .dataframe tbody tr th {\n",
       "        vertical-align: top;\n",
       "    }\n",
       "\n",
       "    .dataframe thead th {\n",
       "        text-align: right;\n",
       "    }\n",
       "</style>\n",
       "<table border=\"1\" class=\"dataframe\">\n",
       "  <thead>\n",
       "    <tr style=\"text-align: right;\">\n",
       "      <th></th>\n",
       "      <th>date</th>\n",
       "      <th>organisation</th>\n",
       "      <th>amount</th>\n",
       "      <th>Date</th>\n",
       "    </tr>\n",
       "  </thead>\n",
       "  <tbody>\n",
       "    <tr>\n",
       "      <th>0</th>\n",
       "      <td>1/13/2020</td>\n",
       "      <td>vision</td>\n",
       "      <td>1500</td>\n",
       "      <td>2020-01-13</td>\n",
       "    </tr>\n",
       "    <tr>\n",
       "      <th>1</th>\n",
       "      <td>2/15/2019</td>\n",
       "      <td>new era</td>\n",
       "      <td>500</td>\n",
       "      <td>2019-02-15</td>\n",
       "    </tr>\n",
       "    <tr>\n",
       "      <th>2</th>\n",
       "      <td>12/25/2020</td>\n",
       "      <td>yukti</td>\n",
       "      <td>1200</td>\n",
       "      <td>2020-12-25</td>\n",
       "    </tr>\n",
       "  </tbody>\n",
       "</table>\n",
       "</div>"
      ],
      "text/plain": [
       "         date organisation  amount       Date\n",
       "0   1/13/2020       vision    1500 2020-01-13\n",
       "1   2/15/2019      new era     500 2019-02-15\n",
       "2  12/25/2020        yukti    1200 2020-12-25"
      ]
     },
     "execution_count": 30,
     "metadata": {},
     "output_type": "execute_result"
    }
   ],
   "source": [
    "other.head()"
   ]
  },
  {
   "cell_type": "code",
   "execution_count": 31,
   "metadata": {},
   "outputs": [
    {
     "data": {
      "text/plain": [
       "(8, 4)"
      ]
     },
     "execution_count": 31,
     "metadata": {},
     "output_type": "execute_result"
    }
   ],
   "source": [
    "#lets do some statistics\n",
    "entertainment.shape\n",
    "#3->columns 11->rows\n",
    "#similarliy do for others"
   ]
  },
  {
   "cell_type": "code",
   "execution_count": 32,
   "metadata": {},
   "outputs": [
    {
     "data": {
      "text/html": [
       "<div>\n",
       "<style scoped>\n",
       "    .dataframe tbody tr th:only-of-type {\n",
       "        vertical-align: middle;\n",
       "    }\n",
       "\n",
       "    .dataframe tbody tr th {\n",
       "        vertical-align: top;\n",
       "    }\n",
       "\n",
       "    .dataframe thead th {\n",
       "        text-align: right;\n",
       "    }\n",
       "</style>\n",
       "<table border=\"1\" class=\"dataframe\">\n",
       "  <thead>\n",
       "    <tr style=\"text-align: right;\">\n",
       "      <th></th>\n",
       "      <th>amount</th>\n",
       "    </tr>\n",
       "  </thead>\n",
       "  <tbody>\n",
       "    <tr>\n",
       "      <th>count</th>\n",
       "      <td>8.000000</td>\n",
       "    </tr>\n",
       "    <tr>\n",
       "      <th>mean</th>\n",
       "      <td>537.170000</td>\n",
       "    </tr>\n",
       "    <tr>\n",
       "      <th>std</th>\n",
       "      <td>1235.894711</td>\n",
       "    </tr>\n",
       "    <tr>\n",
       "      <th>min</th>\n",
       "      <td>12.590000</td>\n",
       "    </tr>\n",
       "    <tr>\n",
       "      <th>25%</th>\n",
       "      <td>12.590000</td>\n",
       "    </tr>\n",
       "    <tr>\n",
       "      <th>50%</th>\n",
       "      <td>41.295000</td>\n",
       "    </tr>\n",
       "    <tr>\n",
       "      <th>75%</th>\n",
       "      <td>250.000000</td>\n",
       "    </tr>\n",
       "    <tr>\n",
       "      <th>max</th>\n",
       "      <td>3577.000000</td>\n",
       "    </tr>\n",
       "  </tbody>\n",
       "</table>\n",
       "</div>"
      ],
      "text/plain": [
       "            amount\n",
       "count     8.000000\n",
       "mean    537.170000\n",
       "std    1235.894711\n",
       "min      12.590000\n",
       "25%      12.590000\n",
       "50%      41.295000\n",
       "75%     250.000000\n",
       "max    3577.000000"
      ]
     },
     "execution_count": 32,
     "metadata": {},
     "output_type": "execute_result"
    }
   ],
   "source": [
    "#getting statistical info\n",
    "entertainment.describe()"
   ]
  },
  {
   "cell_type": "code",
   "execution_count": 33,
   "metadata": {},
   "outputs": [
    {
     "data": {
      "text/html": [
       "<div>\n",
       "<style scoped>\n",
       "    .dataframe tbody tr th:only-of-type {\n",
       "        vertical-align: middle;\n",
       "    }\n",
       "\n",
       "    .dataframe tbody tr th {\n",
       "        vertical-align: top;\n",
       "    }\n",
       "\n",
       "    .dataframe thead th {\n",
       "        text-align: right;\n",
       "    }\n",
       "</style>\n",
       "<table border=\"1\" class=\"dataframe\">\n",
       "  <thead>\n",
       "    <tr style=\"text-align: right;\">\n",
       "      <th></th>\n",
       "      <th>date</th>\n",
       "      <th>organisation</th>\n",
       "      <th>amount</th>\n",
       "      <th>Date</th>\n",
       "    </tr>\n",
       "  </thead>\n",
       "  <tbody>\n",
       "    <tr>\n",
       "      <th>2</th>\n",
       "      <td>8/19/2018</td>\n",
       "      <td>four seasons</td>\n",
       "      <td>3577.0</td>\n",
       "      <td>2018-08-19</td>\n",
       "    </tr>\n",
       "  </tbody>\n",
       "</table>\n",
       "</div>"
      ],
      "text/plain": [
       "        date  organisation  amount       Date\n",
       "2  8/19/2018  four seasons  3577.0 2018-08-19"
      ]
     },
     "execution_count": 33,
     "metadata": {},
     "output_type": "execute_result"
    }
   ],
   "source": [
    "#oh my 3577 is too much,lets see where have i used this amount\n",
    "entertainment[entertainment['amount']==entertainment['amount'].max()]\n",
    "#four seasons movie was awesome!!!:)\n"
   ]
  },
  {
   "cell_type": "code",
   "execution_count": 39,
   "metadata": {},
   "outputs": [
    {
     "data": {
      "text/plain": [
       "date                    object\n",
       "organisation            object\n",
       "amount                 float64\n",
       "Date            datetime64[ns]\n",
       "dtype: object"
      ]
     },
     "execution_count": 39,
     "metadata": {},
     "output_type": "execute_result"
    }
   ],
   "source": [
    "#lets check the data type of the data set -entertainment\n",
    "entertainment.dtypes\n",
    "#everything looks fine\n"
   ]
  },
  {
   "cell_type": "code",
   "execution_count": 40,
   "metadata": {},
   "outputs": [
    {
     "data": {
      "text/plain": [
       "date            False\n",
       "organisation    False\n",
       "amount          False\n",
       "Date            False\n",
       "dtype: bool"
      ]
     },
     "execution_count": 40,
     "metadata": {},
     "output_type": "execute_result"
    }
   ],
   "source": [
    "#now lets check for missing values\n",
    "entertainment.isnull().any()\n",
    "#woo hooo there are no missing values\n",
    "#if True was displayed then we would have to use some pandas function to get rid of that\n",
    "#eg df.dropna() or .fillna() etc.."
   ]
  },
  {
   "cell_type": "code",
   "execution_count": 41,
   "metadata": {},
   "outputs": [
    {
     "data": {
      "text/plain": [
       "date            False\n",
       "organisation    False\n",
       "amount          False\n",
       "Date            False\n",
       "dtype: bool"
      ]
     },
     "execution_count": 41,
     "metadata": {},
     "output_type": "execute_result"
    }
   ],
   "source": [
    "#lets check for other data frames as well\n",
    "investment.isnull().any()"
   ]
  },
  {
   "cell_type": "code",
   "execution_count": 42,
   "metadata": {},
   "outputs": [
    {
     "data": {
      "text/html": [
       "<div>\n",
       "<style scoped>\n",
       "    .dataframe tbody tr th:only-of-type {\n",
       "        vertical-align: middle;\n",
       "    }\n",
       "\n",
       "    .dataframe tbody tr th {\n",
       "        vertical-align: top;\n",
       "    }\n",
       "\n",
       "    .dataframe thead th {\n",
       "        text-align: right;\n",
       "    }\n",
       "</style>\n",
       "<table border=\"1\" class=\"dataframe\">\n",
       "  <thead>\n",
       "    <tr style=\"text-align: right;\">\n",
       "      <th></th>\n",
       "      <th>date</th>\n",
       "      <th>organisation</th>\n",
       "      <th>amount</th>\n",
       "      <th>Date</th>\n",
       "    </tr>\n",
       "  </thead>\n",
       "  <tbody>\n",
       "    <tr>\n",
       "      <th>0</th>\n",
       "      <td>False</td>\n",
       "      <td>False</td>\n",
       "      <td>False</td>\n",
       "      <td>False</td>\n",
       "    </tr>\n",
       "    <tr>\n",
       "      <th>1</th>\n",
       "      <td>False</td>\n",
       "      <td>False</td>\n",
       "      <td>False</td>\n",
       "      <td>False</td>\n",
       "    </tr>\n",
       "    <tr>\n",
       "      <th>2</th>\n",
       "      <td>False</td>\n",
       "      <td>False</td>\n",
       "      <td>False</td>\n",
       "      <td>False</td>\n",
       "    </tr>\n",
       "    <tr>\n",
       "      <th>3</th>\n",
       "      <td>False</td>\n",
       "      <td>False</td>\n",
       "      <td>False</td>\n",
       "      <td>False</td>\n",
       "    </tr>\n",
       "    <tr>\n",
       "      <th>4</th>\n",
       "      <td>False</td>\n",
       "      <td>False</td>\n",
       "      <td>False</td>\n",
       "      <td>False</td>\n",
       "    </tr>\n",
       "  </tbody>\n",
       "</table>\n",
       "</div>"
      ],
      "text/plain": [
       "    date  organisation  amount   Date\n",
       "0  False         False   False  False\n",
       "1  False         False   False  False\n",
       "2  False         False   False  False\n",
       "3  False         False   False  False\n",
       "4  False         False   False  False"
      ]
     },
     "execution_count": 42,
     "metadata": {},
     "output_type": "execute_result"
    }
   ],
   "source": [
    "shopping.isnull()"
   ]
  },
  {
   "cell_type": "code",
   "execution_count": 43,
   "metadata": {
    "jupyter": {
     "outputs_hidden": true
    }
   },
   "outputs": [
    {
     "data": {
      "text/plain": [
       "date            False\n",
       "organisation    False\n",
       "amount          False\n",
       "Date            False\n",
       "dtype: bool"
      ]
     },
     "execution_count": 43,
     "metadata": {},
     "output_type": "execute_result"
    }
   ],
   "source": [
    "#similary we can check for the other category\n",
    "grocery.isnull().any()\n",
    "transport.isnull().any()\n",
    "other.isnull().any()\n",
    "home.isnull().any()"
   ]
  },
  {
   "cell_type": "code",
   "execution_count": 44,
   "metadata": {},
   "outputs": [
    {
     "data": {
      "text/plain": [
       "<BarContainer object of 7 artists>"
      ]
     },
     "execution_count": 44,
     "metadata": {},
     "output_type": "execute_result"
    },
    {
     "data": {
      "image/png": "[encoded data removed]",
      "text/plain": [
       "<Figure size 1728x360 with 1 Axes>"
      ]
     },
     "metadata": {
      "needs_background": "light"
     },
     "output_type": "display_data"
    }
   ],
   "source": [
    "#since everything looks fine we will move to the next important step \n",
    "#DATA ANALYSIS\n",
    "plt.figure(figsize=(24,5))\n",
    "plt.bar(entertainment['organisation'],entertainment['amount'])"
   ]
  },
  {
   "cell_type": "code",
   "execution_count": 45,
   "metadata": {},
   "outputs": [
    {
     "data": {
      "text/plain": [
       "<AxesSubplot:title={'center':'entertainment expenditure'}, ylabel='organisation'>"
      ]
     },
     "execution_count": 45,
     "metadata": {},
     "output_type": "execute_result"
    },
    {
     "data": {
      "image/png": "[encoded data removed]",
      "text/plain": [
       "<Figure size 432x288 with 1 Axes>"
      ]
     },
     "metadata": {
      "needs_background": "light"
     },
     "output_type": "display_data"
    }
   ],
   "source": [
    "#lets make it more readble and analyzable\n",
    "entertainment.plot(x='organisation',y='amount',kind='barh',title='entertainment expenditure')"
   ]
  },
  {
   "cell_type": "code",
   "execution_count": 46,
   "metadata": {},
   "outputs": [
    {
     "data": {
      "image/png": "[encoded data removed]",
      "text/plain": [
       "<Figure size 432x288 with 1 Axes>"
      ]
     },
     "metadata": {},
     "output_type": "display_data"
    }
   ],
   "source": [
    "#its time to make pie chart\n",
    "#here i will make pie chart using three ways just to see which one fits the best\n",
    "labels=[]\n",
    "for i in entertainment['organisation']:\n",
    "    labels.append(i)  \n",
    "amount=[]\n",
    "for i in entertainment['amount']:\n",
    "    amount.append(i)\n",
    "plt.pie(amount, labels=labels, autopct='%1.1f%%',\n",
    "        shadow=True, startangle=90)\n",
    "\n",
    "plt.axis('equal')  \n",
    "plt.tight_layout()\n",
    "#entertainment.plot(x='organisation',y='amount',kind='barh',title='entertainment expenditure')\n",
    "plt.show()"
   ]
  },
  {
   "cell_type": "code",
   "execution_count": 47,
   "metadata": {},
   "outputs": [
    {
     "data": {
      "image/png": "[encoded data removed]",
      "text/plain": [
       "<Figure size 432x288 with 1 Axes>"
      ]
     },
     "metadata": {},
     "output_type": "display_data"
    }
   ],
   "source": [
    "#yucks this plot is too messy\n",
    "#lets try other way\n",
    "#this is donut plot\n",
    "# create a figure and set different background\n",
    "fig = plt.figure()\n",
    "fig.patch.set_facecolor('#B7AC9C')\n",
    "# Change color of text and make a circle\n",
    "plt.rcParams['text.color'] = 'black'\n",
    "my_circle=plt.Circle( (0,0), 0.6,color='#B7AC9C' )\n",
    "# Pieplot + circle on it\n",
    "plt.pie(amount, labels=labels)\n",
    "p=plt.gcf()\n",
    "p.gca().add_artist(my_circle)\n",
    "plt.show()"
   ]
  },
  {
   "cell_type": "code",
   "execution_count": 48,
   "metadata": {},
   "outputs": [
    {
     "data": {
      "image/png": "[encoded data removed]",
      "text/plain": [
       "<Figure size 432x288 with 4 Axes>"
      ]
     },
     "metadata": {},
     "output_type": "display_data"
    },
    {
     "data": {
      "image/png": "[encoded data removed]",
      "text/plain": [
       "<Figure size 432x288 with 1 Axes>"
      ]
     },
     "metadata": {},
     "output_type": "display_data"
    },
    {
     "data": {
      "image/png": "[encoded data removed]",
      "text/plain": [
       "<Figure size 432x288 with 1 Axes>"
      ]
     },
     "metadata": {},
     "output_type": "display_data"
    }
   ],
   "source": [
    "#this seems nice\n",
    "#lets do this for other category as well\n",
    "#similarly we will look at grocery and shopping\n",
    "#colors = [\"#1f77b4\", \"#ff7f0e\", \"#2ca02c\", \"#d62728\", \"#8c564b\",\"#B7AC9C\"]\n",
    "plt.subplot(221)\n",
    "plt.pie(grocery['amount'], labels=grocery['organisation'], \n",
    "autopct='%1.1f%%', shadow=True, startangle=140,)\n",
    "plt.title(\"grocery expenditure\")\n",
    "plt.subplot(222)\n",
    "plt.pie(shopping['amount'], labels=shopping['organisation'], \n",
    "autopct='%1.1f%%', shadow=True, startangle=140)\n",
    "plt.title(\"shopping expenditure\")\n",
    "plt.subplot(223)\n",
    "plt.pie(home['amount'], labels=home['organisation'], \n",
    "autopct='%1.1f%%', shadow=True, startangle=140)\n",
    "plt.title(\"home expenditure\")\n",
    "plt.subplot(224)\n",
    "plt.pie(transport['amount'], labels=transport['organisation'], \n",
    "autopct='%1.1f%%', shadow=True, startangle=0)\n",
    "plt.title(\"transport expenditure\")\n",
    "#plt.legend(labels)\n",
    "plt.show()\n",
    "plt.pie(other['amount'], labels=other['organisation'], autopct='%1.1f%%', shadow=True, startangle=0)\n",
    "plt.title(\"other expenditure\")\n",
    "plt.show()\n",
    "plt.pie(investment['amount'], labels=investment['organisation'], autopct='%1.1f%%', shadow=True, startangle=0)\n",
    "plt.title(\"investment expenditure\")\n",
    "plt.show()"
   ]
  },
  {
   "cell_type": "code",
   "execution_count": 49,
   "metadata": {},
   "outputs": [],
   "source": [
    "#lets merge all the expenditure and save it to other csv\n",
    "category=['entertainment','investment','shopping','grocery','transport','home','others']\n",
    "#lets sum all the expenditure category wise\n",
    "total_entertainment=entertainment['amount'].sum()\n",
    "total_investment=investment['amount'].sum()\n",
    "total_shopping=shopping['amount'].sum()\n",
    "total_grocery=grocery['amount'].sum()\n",
    "total_transport=transport['amount'].sum()\n",
    "total_home=home['amount'].sum()\n",
    "total_others=other['amount'].sum()\n",
    "amount=[total_entertainment,total_investment,total_shopping,total_grocery,total_transport,total_home,total_others]"
   ]
  },
  {
   "cell_type": "code",
   "execution_count": 50,
   "metadata": {},
   "outputs": [],
   "source": [
    "data={'category':category,'total':amount}"
   ]
  },
  {
   "cell_type": "code",
   "execution_count": 51,
   "metadata": {},
   "outputs": [],
   "source": [
    "#here we created a new table which shows the total expenditure of all the category\n",
    "df = pd.DataFrame(data) "
   ]
  },
  {
   "cell_type": "code",
   "execution_count": 52,
   "metadata": {},
   "outputs": [
    {
     "data": {
      "text/html": [
       "<div>\n",
       "<style scoped>\n",
       "    .dataframe tbody tr th:only-of-type {\n",
       "        vertical-align: middle;\n",
       "    }\n",
       "\n",
       "    .dataframe tbody tr th {\n",
       "        vertical-align: top;\n",
       "    }\n",
       "\n",
       "    .dataframe thead th {\n",
       "        text-align: right;\n",
       "    }\n",
       "</style>\n",
       "<table border=\"1\" class=\"dataframe\">\n",
       "  <thead>\n",
       "    <tr style=\"text-align: right;\">\n",
       "      <th></th>\n",
       "      <th>category</th>\n",
       "      <th>total</th>\n",
       "    </tr>\n",
       "  </thead>\n",
       "  <tbody>\n",
       "    <tr>\n",
       "      <th>0</th>\n",
       "      <td>entertainment</td>\n",
       "      <td>4284.77</td>\n",
       "    </tr>\n",
       "    <tr>\n",
       "      <th>1</th>\n",
       "      <td>investment</td>\n",
       "      <td>25000.00</td>\n",
       "    </tr>\n",
       "    <tr>\n",
       "      <th>2</th>\n",
       "      <td>shopping</td>\n",
       "      <td>7107.00</td>\n",
       "    </tr>\n",
       "    <tr>\n",
       "      <th>3</th>\n",
       "      <td>grocery</td>\n",
       "      <td>4600.00</td>\n",
       "    </tr>\n",
       "    <tr>\n",
       "      <th>4</th>\n",
       "      <td>transport</td>\n",
       "      <td>6410.00</td>\n",
       "    </tr>\n",
       "    <tr>\n",
       "      <th>5</th>\n",
       "      <td>home</td>\n",
       "      <td>1700.00</td>\n",
       "    </tr>\n",
       "    <tr>\n",
       "      <th>6</th>\n",
       "      <td>others</td>\n",
       "      <td>3200.00</td>\n",
       "    </tr>\n",
       "  </tbody>\n",
       "</table>\n",
       "</div>"
      ],
      "text/plain": [
       "        category     total\n",
       "0  entertainment   4284.77\n",
       "1     investment  25000.00\n",
       "2       shopping   7107.00\n",
       "3        grocery   4600.00\n",
       "4      transport   6410.00\n",
       "5           home   1700.00\n",
       "6         others   3200.00"
      ]
     },
     "execution_count": 52,
     "metadata": {},
     "output_type": "execute_result"
    }
   ],
   "source": [
    "df.head(10)"
   ]
  },
  {
   "cell_type": "code",
   "execution_count": 53,
   "metadata": {},
   "outputs": [
    {
     "data": {
      "image/png": "[encoded data removed]",
      "text/plain": [
       "<Figure size 432x288 with 1 Axes>"
      ]
     },
     "metadata": {},
     "output_type": "display_data"
    },
    {
     "data": {
      "image/png": "[encoded data removed]",
      "text/plain": [
       "<Figure size 432x288 with 1 Axes>"
      ]
     },
     "metadata": {
      "needs_background": "light"
     },
     "output_type": "display_data"
    }
   ],
   "source": [
    "#lets plot a piechart and bar to analzye where we used \n",
    "#colors = [\"#1f77b4\", \"#ff7f0e\", \"#2ca02c\", \"#d62728\", \"#8c564b\",\"#B7AC9C\"]\n",
    "\n",
    "plt.pie(df['total'], labels=df['category'], autopct='%1.1f%%', shadow=True, startangle=140)\n",
    "plt.title(\" expenditure\")\n",
    "\n",
    "df.plot(x='category',y='total',kind='barh',title='entertainment expenditure')\n",
    "plt.show()"
   ]
  },
  {
   "cell_type": "code",
   "execution_count": 54,
   "metadata": {},
   "outputs": [
    {
     "data": {
      "image/png": "[encoded data removed]",
      "text/plain": [
       "<Figure size 432x216 with 1 Axes>"
      ]
     },
     "metadata": {},
     "output_type": "display_data"
    }
   ],
   "source": [
    "fig, ax = plt.subplots(figsize=(6, 3), subplot_kw=dict(aspect=\"equal\"))\n",
    "wedges, texts = ax.pie(df['total'], wedgeprops=dict(width=0.5), startangle=-40)\n",
    "bbox_props = dict(boxstyle=\"square,pad=0.3\", fc=\"w\", ec=\"k\", lw=0.72)\n",
    "kw = dict(arrowprops=dict(arrowstyle=\"-\"),\n",
    "          bbox=bbox_props, zorder=0, va=\"center\")\n",
    "\n",
    "for i, p in enumerate(wedges):\n",
    "    ang = (p.theta2 - p.theta1)/2. + p.theta1\n",
    "    y = np.sin(np.deg2rad(ang))\n",
    "    x = np.cos(np.deg2rad(ang))\n",
    "    horizontalalignment = {-1: \"right\", 1: \"left\"}[int(np.sign(x))]\n",
    "    connectionstyle = \"angle,angleA=0,angleB={}\".format(ang)\n",
    "    kw[\"arrowprops\"].update({\"connectionstyle\": connectionstyle})\n",
    "    ax.annotate(category[i], xy=(x, y), xytext=(1.35*np.sign(x), 1.4*y),\n",
    "                horizontalalignment=horizontalalignment, **kw)\n",
    "plt.show()\n"
   ]
  },
  {
   "cell_type": "code",
   "execution_count": 55,
   "metadata": {},
   "outputs": [
    {
     "data": {
      "text/plain": [
       "<AxesSubplot:title={'center':'entertainment expenditure'}, ylabel='category'>"
      ]
     },
     "execution_count": 55,
     "metadata": {},
     "output_type": "execute_result"
    },
    {
     "data": {
      "image/png": "[encoded data removed]",
      "text/plain": [
       "<Figure size 432x288 with 1 Axes>"
      ]
     },
     "metadata": {
      "needs_background": "light"
     },
     "output_type": "display_data"
    }
   ],
   "source": [
    "#wohooo we completed with the piechart\n",
    "#nowlets move to last question\n",
    "#lets make a inferance\n",
    "ordered_df = df.sort_values(by='total')\n",
    "data_sort=ordered_df\n",
    "\n",
    "data_sort.plot(x='category',y='total',kind='barh',title='entertainment expenditure')"
   ]
  },
  {
   "cell_type": "code",
   "execution_count": 56,
   "metadata": {},
   "outputs": [],
   "source": [
    "#this used to calculate the percentage  of every category\n",
    "percent=[]\n",
    "for i in df['total']:\n",
    "    per=int((i/df['total'].sum())*100)\n",
    "    percent.append(per)\n",
    "\n",
    "percent.sort()"
   ]
  },
  {
   "cell_type": "code",
   "execution_count": 57,
   "metadata": {},
   "outputs": [
    {
     "name": "stdout",
     "output_type": "stream",
     "text": [
      "3%  of your expenditure in home category\n",
      "6%  of your expenditure in others category\n",
      "8%  of your expenditure in entertainment category\n",
      "8%  of your expenditure in grocery category\n",
      "12%  of your expenditure in transport category\n",
      "13%  of your expenditure in shopping category\n",
      "47%  of your expenditure in investment category\n"
     ]
    }
   ],
   "source": [
    "#question4\n",
    "#from the above graph we can conclude that we have invested maximum money\n",
    "#now lets see how much we have used in all category\n",
    "for i in range(len(df)):\n",
    "    print(\"{}%  of your expenditure in {} category\".format(percent[i],data_sort['category'].iloc[i]))"
   ]
  },
  {
   "cell_type": "markdown",
   "metadata": {},
   "source": [
    "conclusion:\n",
    "Expense data provides detailed insights into entertainment expenditure such as, how much and how frequently the we went for movies and resturant.It is easier for us to cut down on these expenses.\n",
    "as we can go once a month and we also need to take care of our health. the above Data analytics determined us where to find cost-saving opportunities, validate expenses, and point out the areas to invest more.The investment has maximum as it is necessary to invest for second source of income.The grocery expense detail is not completety true as  grocery vendors in india doesnot provide bill.the data for grocery used is of supermarket that we go sometimes.the transport category is less as i dont have petrol bills,and we have our own vehical.so we usually don't take taxi.to cut the transportation cost we can use city bus.\n",
    "here are some money saving tips:\n",
    "1)evaluate your spending\n",
    "2)set a montly budget\n",
    "3)track your spending,if it goes above the limits try to cut down  or spend less the next month in that category\n",
    "4)plan out your meals for the week so that you can avoid randomly going out and spending unnesscerily\n",
    "5)cut out cable.wifi is enough ,no need for tv.with services like Hulu, Netflix and Amazon Prime, you can now watch your favorite TV shows and movies for a fraction of the cost of cable TV.\n"
   ]
  },
  {
   "cell_type": "code",
   "execution_count": null,
   "metadata": {},
   "outputs": [],
   "source": []
  }
 ],
 "metadata": {
  "kernelspec": {
   "display_name": "Python 3 (ipykernel)",
   "language": "python",
   "name": "python3"
  },
  "language_info": {
   "codemirror_mode": {
    "name": "ipython",
    "version": 3
   },
   "file_extension": ".py",
   "mimetype": "text/x-python",
   "name": "python",
   "nbconvert_exporter": "python",
   "pygments_lexer": "ipython3",
   "version": "3.9.7"
  }
 },
 "nbformat": 4,
 "nbformat_minor": 4
}
